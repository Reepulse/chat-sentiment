{
 "cells": [
  {
   "cell_type": "code",
   "execution_count": 40,
   "metadata": {
    "colab": {
     "base_uri": "https://localhost:8080/",
     "height": 286
    },
    "colab_type": "code",
    "id": "uA2FBTcqy872",
    "outputId": "596701d8-a7c3-4de1-d59a-f38d06b8c0dc"
   },
   "outputs": [
    {
     "name": "stdout",
     "output_type": "stream",
     "text": [
      "[nltk_data] Downloading package movie_reviews to /root/nltk_data...\n",
      "[nltk_data]   Package movie_reviews is already up-to-date!\n",
      "Training on 1850 data, testing on 150 data\n",
      "Training complete\n",
      "accuracy: 81.33333333333333 %\n",
      "Most Informative Features\n",
      "             outstanding = True           positi : negati =     16.4 : 1.0\n",
      "               ludicrous = True           negati : positi =     13.5 : 1.0\n",
      "              astounding = True           positi : negati =     13.0 : 1.0\n",
      "                  avoids = True           positi : negati =     13.0 : 1.0\n",
      "                 idiotic = True           negati : positi =     12.3 : 1.0\n",
      "             fascination = True           positi : negati =     11.6 : 1.0\n",
      "               atrocious = True           negati : positi =     11.1 : 1.0\n",
      "                  symbol = True           positi : negati =     10.9 : 1.0\n",
      "                  annual = True           positi : negati =     10.2 : 1.0\n",
      "                  hudson = True           negati : positi =      9.8 : 1.0\n"
     ]
    }
   ],
   "source": [
    "import nltk\n",
    "nltk.download('movie_reviews')\n",
    "from nltk.classify import NaiveBayesClassifier\n",
    "from nltk.corpus import movie_reviews\n",
    "import pickle\n",
    "import nltk.classify.util\n",
    "import sys\n",
    "%matplotlib notebook\n",
    "import matplotlib.pyplot as plt\n",
    "import numpy as np\n",
    "\n",
    "\n",
    "def clean(words):\n",
    "    return dict([(word, True) for word in words])\n",
    "\n",
    "\n",
    "negative_ids = movie_reviews.fileids('neg')\n",
    "positive_ids = movie_reviews.fileids('pos')\n",
    "\n",
    "\n",
    "negative_features = [(clean(movie_reviews.words(fileids=[f])), 'negative') for f in negative_ids]\n",
    "positive_features = [(clean(movie_reviews.words(fileids=[f])), 'positive') for f in positive_ids]\n",
    "\n",
    "\n",
    "negative_cutoff = int(len(negative_features) * 95/100)\n",
    "positive_cutoff = int(len(positive_features) * 90/100)\n",
    "\n",
    "train_features = negative_features[:negative_cutoff] + positive_features[:positive_cutoff]\n",
    "test_features = negative_features[negative_cutoff:] + positive_features[positive_cutoff:]\n",
    "\n",
    "print('Training on %d data, testing on %d data' % (len(train_features), len(test_features)))\n",
    "classifier = NaiveBayesClassifier.train(train_features)\n",
    "print('Training complete')\n",
    "print('accuracy:', nltk.classify.util.accuracy(classifier, test_features)*100,'%')\n",
    "classifier.show_most_informative_features()\n",
    "\n",
    "\n",
    "f = open('model', 'wb')\n",
    "pickle.dump(classifier, f)\n",
    "f.close()"
   ]
  },
  {
   "cell_type": "code",
   "execution_count": 41,
   "metadata": {
    "colab": {
     "base_uri": "https://localhost:8080/",
     "height": 84
    },
    "colab_type": "code",
    "id": "mZAtKar6y88G",
    "outputId": "5d246611-04e5-48b9-b71c-f176a907cd67"
   },
   "outputs": [
    {
     "name": "stdout",
     "output_type": "stream",
     "text": [
      "negative\n",
      "positive\n",
      "positive\n",
      "negative\n"
     ]
    }
   ],
   "source": [
    "f = open('model', 'rb')\n",
    "classifier = pickle.load(f)\n",
    "f.close()\n",
    "\n",
    "\n",
    "\n",
    "sentence=\"i don't love you \"\n",
    "features = clean(sentence)\n",
    "print(classifier.classify(features))\n",
    "\n",
    "sentence=\"She is my sweetheart \"\n",
    "features = clean(sentence)\n",
    "print(classifier.classify(features))\n",
    "\n",
    "\n",
    "sentence=\"i am not saying that i don't love you\"\n",
    "features = clean(sentence)\n",
    "print(classifier.classify(features))\n",
    "\n",
    "sentence=\"He is a bad person\"\n",
    "features = clean(sentence)\n",
    "print(classifier.classify(features))\n",
    "\n"
   ]
  },
  {
   "cell_type": "code",
   "execution_count": 42,
   "metadata": {
    "colab": {
     "base_uri": "https://localhost:8080/",
     "height": 689
    },
    "colab_type": "code",
    "id": "RIuSyiF4y88O",
    "outputId": "7ca6a770-c79a-42ac-fb41-6d95d33b6848"
   },
   "outputs": [
    {
     "name": "stdout",
     "output_type": "stream",
     "text": [
      " Person1 positive  This is not a good software\n",
      "\n",
      " Person2 positive  Just purchase this it's good\n",
      "\n",
      " Person3 positive  Never purchase it\n",
      "\n",
      " Person2 negative  Go and try this software is best\n",
      "\n",
      " Person2 negative  Don't buy this its bad disgusting\n",
      "\n",
      " Person4 positive  Wow marvelous design\n",
      "\n",
      " Person4 positive  This is best software ever i have seen it best\n",
      "\n",
      " Person4 positive  So when are you buying it's pretty good \n",
      "\n",
      " Person2 positive  I want to buy another, love it\n",
      "\n",
      " Person2 positive  If you buy you will like you are in heaven\n",
      "\n",
      " Person3 negative  Don't buy its very worst\n",
      "\n",
      " Person2 positive  You will Enjoy this product awesome\n",
      "\n",
      " Person4 positive  value for money\n",
      "\n",
      " Person3 negative  Not portable bad for this\n",
      "\n",
      " Person1 negative  but this is not for child if you have don't buy this\n",
      "\n",
      " Person3 negative  Worst than any other brand\n",
      "\n",
      " Person4 positive  Best Technical support\n",
      "\n",
      " Person1 negative  For student it is bad\n",
      "\n",
      " Person2 positive  good for teachers\n",
      "\n",
      "positive: 12 \n",
      "Negative: 7\n"
     ]
    }
   ],
   "source": [
    "opinion={}\n",
    "\n",
    "f=open('chat.txt','r')\n",
    "pos,neg=0,0\n",
    "for line in f:\n",
    "    try:\n",
    "        chat=line.split('-')[1].split(':')[1]\n",
    "        name=line.split('-')[1].split(':')[0]\n",
    "        if opinion.get(name,None) is None:\n",
    "            opinion[name]=[0,0]\n",
    "        res=classifier.classify(clean(chat))\n",
    "        print(name,res,chat)\n",
    "        if res=='positive':\n",
    "            pos+=1\n",
    "            opinion[name][0]+=1\n",
    "        else:\n",
    "            neg+=1\n",
    "            opinion[name][1]+=1\n",
    "    except:\n",
    "        pass\n",
    "print(\"positive: {} \\nNegative: {}\".format(pos,neg))"
   ]
  },
  {
   "cell_type": "code",
   "execution_count": 0,
   "metadata": {
    "colab": {},
    "colab_type": "code",
    "id": "zxHpfNTv4mpa"
   },
   "outputs": [],
   "source": [
    "%matplotlib inline"
   ]
  },
  {
   "cell_type": "code",
   "execution_count": 44,
   "metadata": {
    "colab": {
     "base_uri": "https://localhost:8080/",
     "height": 248
    },
    "colab_type": "code",
    "id": "-wA6lCOyy88W",
    "outputId": "0a96b6bf-e10b-4e96-fe38-3c960b7cefe2"
   },
   "outputs": [
    {
     "data": {
      "image/png": "[encoded data removed]",
      "text/plain": [
       "<Figure size 432x288 with 1 Axes>"
      ]
     },
     "metadata": {
      "tags": []
     },
     "output_type": "display_data"
    }
   ],
   "source": [
    "neg=abs(neg)\n",
    "labels = ['positive','negative']\n",
    "sizes = [pos,neg]\n",
    "fig1, ax1 = plt.subplots()\n",
    "ax1.pie(sizes ,labels=labels, autopct='%1.1f%%')\n",
    "plt.show()\n"
   ]
  },
  {
   "cell_type": "code",
   "execution_count": 0,
   "metadata": {
    "colab": {},
    "colab_type": "code",
    "id": "LsazKJNZy88c"
   },
   "outputs": [],
   "source": [
    "names,positive,negative=[],[],[]\n",
    "for name in opinion:\n",
    "    names.append(name)\n",
    "    positive.append(opinion[name][0])\n",
    "    negative.append(opinion[name][1])\n",
    "    "
   ]
  },
  {
   "cell_type": "code",
   "execution_count": 0,
   "metadata": {
    "colab": {},
    "colab_type": "code",
    "id": "G4staKU6y88h"
   },
   "outputs": [],
   "source": [
    "def autolabel(rects):\n",
    "    for rect in rects:\n",
    "        h = rect.get_height()\n",
    "        ax.text(rect.get_x()+rect.get_width()/2., 1.05*h, '%d'%int(h),\n",
    "                ha='center', va='bottom')\n"
   ]
  },
  {
   "cell_type": "code",
   "execution_count": 47,
   "metadata": {
    "colab": {
     "base_uri": "https://localhost:8080/",
     "height": 283
    },
    "colab_type": "code",
    "id": "Vcb1f2Q1y88n",
    "outputId": "efaaae5c-630d-4964-ac73-c948e1bbb8d5"
   },
   "outputs": [
    {
     "data": {
      "image/png": "[encoded data removed]",
      "text/plain": [
       "<Figure size 432x288 with 1 Axes>"
      ]
     },
     "metadata": {
      "tags": []
     },
     "output_type": "display_data"
    }
   ],
   "source": [
    "ind = np.arange(len(names))\n",
    "width=0.3\n",
    "max_x=max(max(positive),max(negative))+2\n",
    "\n",
    "fig = plt.figure()\n",
    "ax = fig.add_subplot()\n",
    "\n",
    "yvals = positive\n",
    "rects1 = ax.bar(ind, yvals, width, color='g')\n",
    "zvals = negative\n",
    "rects2 = ax.bar(ind+width, zvals, width, color='r')\n",
    "\n",
    "ax.set_xlabel('Names')\n",
    "ax.set_ylabel('Sentiment')\n",
    "\n",
    "ax.set_xticks(ind+width)\n",
    "ax.set_yticks(np.arange(0,max_x,1))\n",
    "ax.set_xticklabels( names )\n",
    "ax.legend( (rects1[0], rects2[0]), ('positive', 'negative') )\n",
    "\n",
    "\n",
    "autolabel(rects1)\n",
    "autolabel(rects2)\n",
    "\n",
    "plt.show()"
   ]
  }
 ],
 "metadata": {
  "colab": {
   "collapsed_sections": [],
   "name": "Sentiment_Analysis.ipynb",
   "provenance": []
  },
  "kernelspec": {
   "display_name": "Python 3",
   "language": "python",
   "name": "python3"
  },
  "language_info": {
   "codemirror_mode": {
    "name": "ipython",
    "version": 3
   },
   "file_extension": ".py",
   "mimetype": "text/x-python",
   "name": "python",
   "nbconvert_exporter": "python",
   "pygments_lexer": "ipython3",
   "version": "3.7.3"
  }
 },
 "nbformat": 4,
 "nbformat_minor": 1
}
